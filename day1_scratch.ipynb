{
 "cells": [
  {
   "cell_type": "code",
   "execution_count": 1,
   "id": "b729f5a6",
   "metadata": {},
   "outputs": [],
   "source": [
    "input = 'inputs/day1_input.txt'"
   ]
  },
  {
   "cell_type": "code",
   "execution_count": 2,
   "id": "88ea02c4",
   "metadata": {},
   "outputs": [],
   "source": [
    "with open(input) as f:\n",
    "    text = f.readlines()\n",
    "\n",
    "int_list = list(map(int, text))\n"
   ]
  },
  {
   "cell_type": "code",
   "execution_count": 3,
   "id": "4d5b541d",
   "metadata": {},
   "outputs": [
    {
     "data": {
      "text/plain": [
       "1553"
      ]
     },
     "execution_count": 3,
     "metadata": {},
     "output_type": "execute_result"
    }
   ],
   "source": [
    "increase_list = []\n",
    "for i in range(len(int_list)):\n",
    "    if i == 0:\n",
    "        continue # skip the first one\n",
    "    j = i - 1\n",
    "    if int_list[i] > int_list[j]:\n",
    "        increase_list.append(True)\n",
    "    else:\n",
    "        increase_list.append(False)\n",
    "increase_list\n",
    "\n",
    "sum(increase_list)"
   ]
  },
  {
   "cell_type": "code",
   "execution_count": 4,
   "id": "db9b5aed",
   "metadata": {},
   "outputs": [],
   "source": [
    "window_list = []\n",
    "\n",
    "for i in range(len(int_list)):\n",
    "    if i <2:\n",
    "        continue # skip the first two\n",
    "    h = i - 2\n",
    "    j = i - 1\n",
    "    my_sum = int_list[i] + int_list[j] + int_list[h]\n",
    "    window_list.append(my_sum)"
   ]
  },
  {
   "cell_type": "code",
   "execution_count": 5,
   "id": "a4a72527",
   "metadata": {},
   "outputs": [
    {
     "data": {
      "text/plain": [
       "1597"
      ]
     },
     "execution_count": 5,
     "metadata": {},
     "output_type": "execute_result"
    }
   ],
   "source": [
    "window_increases = []\n",
    "for i in range(len(window_list)):\n",
    "    if i == 0:\n",
    "        continue # skip the first one\n",
    "    j = i - 1\n",
    "    if window_list[i] > window_list[j]:\n",
    "        window_increases.append(True)\n",
    "    else:\n",
    "        window_increases.append(False)\n",
    "window_increases\n",
    "sum(window_increases)"
   ]
  }
 ],
 "metadata": {
  "kernelspec": {
   "display_name": "Python 3",
   "language": "python",
   "name": "python3"
  },
  "language_info": {
   "codemirror_mode": {
    "name": "ipython",
    "version": 3
   },
   "file_extension": ".py",
   "mimetype": "text/x-python",
   "name": "python",
   "nbconvert_exporter": "python",
   "pygments_lexer": "ipython3",
   "version": "3.9.6"
  }
 },
 "nbformat": 4,
 "nbformat_minor": 5
}
